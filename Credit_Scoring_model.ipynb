{
 "cells": [
  {
   "cell_type": "markdown",
   "id": "95dcb42e",
   "metadata": {},
   "source": []
  },
  {
   "cell_type": "code",
   "execution_count": 4,
   "id": "d2f73b43",
   "metadata": {},
   "outputs": [],
   "source": [
    "import pandas as pd\n",
    "import numpy as np\n",
    "from sklearn.model_selection import train_test_split\n",
    "from sklearn.ensemble import RandomForestClassifier\n",
    "from sklearn.metrics import classification_report, confusion_matrix, roc_auc_score, roc_curve, accuracy_score, precision_score, recall_score, f1_score\n",
    "import matplotlib.pyplot as plt"
   ]
  },
  {
   "cell_type": "code",
   "execution_count": 5,
   "id": "6b03e113",
   "metadata": {},
   "outputs": [],
   "source": [
    "np.random.seed(42)"
   ]
  },
  {
   "cell_type": "code",
   "execution_count": 14,
   "id": "ce968ba5",
   "metadata": {},
   "outputs": [],
   "source": [
    "\n",
    "def generate_credit_data(n=10000):\n",
    "    income = np.random.normal(70000, 20000, n).astype(int)\n",
    "    debt = np.random.normal(20000, 10000, n).clip(0).astype(int)\n",
    "    credit_history_years = np.random.randint(1, 30, n)\n",
    "    credit_mix = np.random.randint(1, 6, n)\n",
    "    new_credit_apps = np.random.randint(0, 8, n)\n",
    "    on_time = np.random.randint(0, 60, n)\n",
    "    late = np.random.binomial(n=on_time, p=0.1)\n",
    "    payment_ratio = on_time / (on_time + late + 1e-5)\n",
    "\n",
    "\n",
    "    score = (income / 1000) - (debt / 1000) + (credit_history_years * 1.5) + (payment_ratio * 20) - (new_credit_apps * 2)\n",
    "    prob = 1 / (1 + np.exp(-0.1 * (score - 50)))\n",
    "    creditworthiness = np.where(prob > 0.5, 1, 0)  \n",
    "\n",
    "    df = pd.DataFrame({\n",
    "        'Income': income,\n",
    "        'Debt': debt,\n",
    "        'Credit_History_Years': credit_history_years,\n",
    "        'Credit_Mix': credit_mix,\n",
    "        'New_Credit_Apps': new_credit_apps,\n",
    "        'On_Time_Payments': on_time,\n",
    "        'Late_Payments': late,\n",
    "        'Payment_Ratio': payment_ratio,\n",
    "        'Creditworthiness': creditworthiness\n",
    "    })\n",
    "    return df\n",
    "\n",
    "df = generate_credit_data()\n"
   ]
  },
  {
   "cell_type": "code",
   "execution_count": 15,
   "id": "10e3c498",
   "metadata": {},
   "outputs": [
    {
     "data": {
      "text/html": [
       "<div>\n",
       "<style scoped>\n",
       "    .dataframe tbody tr th:only-of-type {\n",
       "        vertical-align: middle;\n",
       "    }\n",
       "\n",
       "    .dataframe tbody tr th {\n",
       "        vertical-align: top;\n",
       "    }\n",
       "\n",
       "    .dataframe thead th {\n",
       "        text-align: right;\n",
       "    }\n",
       "</style>\n",
       "<table border=\"1\" class=\"dataframe\">\n",
       "  <thead>\n",
       "    <tr style=\"text-align: right;\">\n",
       "      <th></th>\n",
       "      <th>Income</th>\n",
       "      <th>Debt</th>\n",
       "      <th>Credit_History_Years</th>\n",
       "      <th>Credit_Mix</th>\n",
       "      <th>New_Credit_Apps</th>\n",
       "      <th>On_Time_Payments</th>\n",
       "      <th>Late_Payments</th>\n",
       "      <th>Payment_Ratio</th>\n",
       "      <th>Creditworthiness</th>\n",
       "    </tr>\n",
       "  </thead>\n",
       "  <tbody>\n",
       "    <tr>\n",
       "      <th>0</th>\n",
       "      <td>54657</td>\n",
       "      <td>24986</td>\n",
       "      <td>11</td>\n",
       "      <td>5</td>\n",
       "      <td>3</td>\n",
       "      <td>59</td>\n",
       "      <td>10</td>\n",
       "      <td>0.855072</td>\n",
       "      <td>1</td>\n",
       "    </tr>\n",
       "    <tr>\n",
       "      <th>1</th>\n",
       "      <td>107414</td>\n",
       "      <td>28368</td>\n",
       "      <td>16</td>\n",
       "      <td>4</td>\n",
       "      <td>2</td>\n",
       "      <td>53</td>\n",
       "      <td>5</td>\n",
       "      <td>0.913793</td>\n",
       "      <td>1</td>\n",
       "    </tr>\n",
       "    <tr>\n",
       "      <th>2</th>\n",
       "      <td>86272</td>\n",
       "      <td>31330</td>\n",
       "      <td>19</td>\n",
       "      <td>4</td>\n",
       "      <td>0</td>\n",
       "      <td>22</td>\n",
       "      <td>3</td>\n",
       "      <td>0.880000</td>\n",
       "      <td>1</td>\n",
       "    </tr>\n",
       "    <tr>\n",
       "      <th>3</th>\n",
       "      <td>69129</td>\n",
       "      <td>16406</td>\n",
       "      <td>28</td>\n",
       "      <td>5</td>\n",
       "      <td>7</td>\n",
       "      <td>38</td>\n",
       "      <td>6</td>\n",
       "      <td>0.863636</td>\n",
       "      <td>1</td>\n",
       "    </tr>\n",
       "    <tr>\n",
       "      <th>4</th>\n",
       "      <td>85766</td>\n",
       "      <td>19916</td>\n",
       "      <td>24</td>\n",
       "      <td>2</td>\n",
       "      <td>0</td>\n",
       "      <td>4</td>\n",
       "      <td>0</td>\n",
       "      <td>0.999998</td>\n",
       "      <td>1</td>\n",
       "    </tr>\n",
       "  </tbody>\n",
       "</table>\n",
       "</div>"
      ],
      "text/plain": [
       "   Income   Debt  Credit_History_Years  Credit_Mix  New_Credit_Apps  \\\n",
       "0   54657  24986                    11           5                3   \n",
       "1  107414  28368                    16           4                2   \n",
       "2   86272  31330                    19           4                0   \n",
       "3   69129  16406                    28           5                7   \n",
       "4   85766  19916                    24           2                0   \n",
       "\n",
       "   On_Time_Payments  Late_Payments  Payment_Ratio  Creditworthiness  \n",
       "0                59             10       0.855072                 1  \n",
       "1                53              5       0.913793                 1  \n",
       "2                22              3       0.880000                 1  \n",
       "3                38              6       0.863636                 1  \n",
       "4                 4              0       0.999998                 1  "
      ]
     },
     "execution_count": 15,
     "metadata": {},
     "output_type": "execute_result"
    }
   ],
   "source": [
    "df.head()"
   ]
  },
  {
   "cell_type": "code",
   "execution_count": 16,
   "id": "30aaf572",
   "metadata": {},
   "outputs": [
    {
     "name": "stdout",
     "output_type": "stream",
     "text": [
      "<class 'pandas.core.frame.DataFrame'>\n",
      "RangeIndex: 10000 entries, 0 to 9999\n",
      "Data columns (total 9 columns):\n",
      " #   Column                Non-Null Count  Dtype  \n",
      "---  ------                --------------  -----  \n",
      " 0   Income                10000 non-null  int32  \n",
      " 1   Debt                  10000 non-null  int32  \n",
      " 2   Credit_History_Years  10000 non-null  int32  \n",
      " 3   Credit_Mix            10000 non-null  int32  \n",
      " 4   New_Credit_Apps       10000 non-null  int32  \n",
      " 5   On_Time_Payments      10000 non-null  int32  \n",
      " 6   Late_Payments         10000 non-null  int32  \n",
      " 7   Payment_Ratio         10000 non-null  float64\n",
      " 8   Creditworthiness      10000 non-null  int32  \n",
      "dtypes: float64(1), int32(8)\n",
      "memory usage: 390.8 KB\n"
     ]
    }
   ],
   "source": [
    "df.info()"
   ]
  },
  {
   "cell_type": "code",
   "execution_count": 17,
   "id": "4a83fb1c",
   "metadata": {},
   "outputs": [
    {
     "data": {
      "text/html": [
       "<div>\n",
       "<style scoped>\n",
       "    .dataframe tbody tr th:only-of-type {\n",
       "        vertical-align: middle;\n",
       "    }\n",
       "\n",
       "    .dataframe tbody tr th {\n",
       "        vertical-align: top;\n",
       "    }\n",
       "\n",
       "    .dataframe thead th {\n",
       "        text-align: right;\n",
       "    }\n",
       "</style>\n",
       "<table border=\"1\" class=\"dataframe\">\n",
       "  <thead>\n",
       "    <tr style=\"text-align: right;\">\n",
       "      <th></th>\n",
       "      <th>Income</th>\n",
       "      <th>Debt</th>\n",
       "      <th>Credit_History_Years</th>\n",
       "      <th>Credit_Mix</th>\n",
       "      <th>New_Credit_Apps</th>\n",
       "      <th>On_Time_Payments</th>\n",
       "      <th>Late_Payments</th>\n",
       "      <th>Payment_Ratio</th>\n",
       "      <th>Creditworthiness</th>\n",
       "    </tr>\n",
       "  </thead>\n",
       "  <tbody>\n",
       "    <tr>\n",
       "      <th>count</th>\n",
       "      <td>10000.000000</td>\n",
       "      <td>10000.000000</td>\n",
       "      <td>10000.000000</td>\n",
       "      <td>10000.000000</td>\n",
       "      <td>10000.000000</td>\n",
       "      <td>10000.000000</td>\n",
       "      <td>10000.000000</td>\n",
       "      <td>10000.000000</td>\n",
       "      <td>10000.000000</td>\n",
       "    </tr>\n",
       "    <tr>\n",
       "      <th>mean</th>\n",
       "      <td>69668.132200</td>\n",
       "      <td>19982.684400</td>\n",
       "      <td>15.018200</td>\n",
       "      <td>3.004500</td>\n",
       "      <td>3.488600</td>\n",
       "      <td>29.163100</td>\n",
       "      <td>2.918100</td>\n",
       "      <td>0.897346</td>\n",
       "      <td>0.896000</td>\n",
       "    </tr>\n",
       "    <tr>\n",
       "      <th>std</th>\n",
       "      <td>20019.120118</td>\n",
       "      <td>9827.751374</td>\n",
       "      <td>8.386555</td>\n",
       "      <td>1.419888</td>\n",
       "      <td>2.296606</td>\n",
       "      <td>17.301666</td>\n",
       "      <td>2.374438</td>\n",
       "      <td>0.134949</td>\n",
       "      <td>0.305276</td>\n",
       "    </tr>\n",
       "    <tr>\n",
       "      <th>min</th>\n",
       "      <td>-2087.000000</td>\n",
       "      <td>0.000000</td>\n",
       "      <td>1.000000</td>\n",
       "      <td>1.000000</td>\n",
       "      <td>0.000000</td>\n",
       "      <td>0.000000</td>\n",
       "      <td>0.000000</td>\n",
       "      <td>0.000000</td>\n",
       "      <td>0.000000</td>\n",
       "    </tr>\n",
       "    <tr>\n",
       "      <th>25%</th>\n",
       "      <td>56242.750000</td>\n",
       "      <td>13189.000000</td>\n",
       "      <td>8.000000</td>\n",
       "      <td>2.000000</td>\n",
       "      <td>1.000000</td>\n",
       "      <td>14.000000</td>\n",
       "      <td>1.000000</td>\n",
       "      <td>0.877193</td>\n",
       "      <td>1.000000</td>\n",
       "    </tr>\n",
       "    <tr>\n",
       "      <th>50%</th>\n",
       "      <td>69721.500000</td>\n",
       "      <td>19707.000000</td>\n",
       "      <td>15.000000</td>\n",
       "      <td>3.000000</td>\n",
       "      <td>4.000000</td>\n",
       "      <td>29.000000</td>\n",
       "      <td>3.000000</td>\n",
       "      <td>0.914285</td>\n",
       "      <td>1.000000</td>\n",
       "    </tr>\n",
       "    <tr>\n",
       "      <th>75%</th>\n",
       "      <td>83257.500000</td>\n",
       "      <td>26651.500000</td>\n",
       "      <td>22.000000</td>\n",
       "      <td>4.000000</td>\n",
       "      <td>5.000000</td>\n",
       "      <td>44.000000</td>\n",
       "      <td>4.000000</td>\n",
       "      <td>0.950000</td>\n",
       "      <td>1.000000</td>\n",
       "    </tr>\n",
       "    <tr>\n",
       "      <th>max</th>\n",
       "      <td>143180.000000</td>\n",
       "      <td>58600.000000</td>\n",
       "      <td>29.000000</td>\n",
       "      <td>5.000000</td>\n",
       "      <td>7.000000</td>\n",
       "      <td>59.000000</td>\n",
       "      <td>15.000000</td>\n",
       "      <td>1.000000</td>\n",
       "      <td>1.000000</td>\n",
       "    </tr>\n",
       "  </tbody>\n",
       "</table>\n",
       "</div>"
      ],
      "text/plain": [
       "              Income          Debt  Credit_History_Years    Credit_Mix  \\\n",
       "count   10000.000000  10000.000000          10000.000000  10000.000000   \n",
       "mean    69668.132200  19982.684400             15.018200      3.004500   \n",
       "std     20019.120118   9827.751374              8.386555      1.419888   \n",
       "min     -2087.000000      0.000000              1.000000      1.000000   \n",
       "25%     56242.750000  13189.000000              8.000000      2.000000   \n",
       "50%     69721.500000  19707.000000             15.000000      3.000000   \n",
       "75%     83257.500000  26651.500000             22.000000      4.000000   \n",
       "max    143180.000000  58600.000000             29.000000      5.000000   \n",
       "\n",
       "       New_Credit_Apps  On_Time_Payments  Late_Payments  Payment_Ratio  \\\n",
       "count     10000.000000      10000.000000   10000.000000   10000.000000   \n",
       "mean          3.488600         29.163100       2.918100       0.897346   \n",
       "std           2.296606         17.301666       2.374438       0.134949   \n",
       "min           0.000000          0.000000       0.000000       0.000000   \n",
       "25%           1.000000         14.000000       1.000000       0.877193   \n",
       "50%           4.000000         29.000000       3.000000       0.914285   \n",
       "75%           5.000000         44.000000       4.000000       0.950000   \n",
       "max           7.000000         59.000000      15.000000       1.000000   \n",
       "\n",
       "       Creditworthiness  \n",
       "count      10000.000000  \n",
       "mean           0.896000  \n",
       "std            0.305276  \n",
       "min            0.000000  \n",
       "25%            1.000000  \n",
       "50%            1.000000  \n",
       "75%            1.000000  \n",
       "max            1.000000  "
      ]
     },
     "execution_count": 17,
     "metadata": {},
     "output_type": "execute_result"
    }
   ],
   "source": [
    "df.describe()"
   ]
  },
  {
   "cell_type": "code",
   "execution_count": 18,
   "id": "28fc593d",
   "metadata": {},
   "outputs": [
    {
     "data": {
      "text/plain": [
       "Income                  0\n",
       "Debt                    0\n",
       "Credit_History_Years    0\n",
       "Credit_Mix              0\n",
       "New_Credit_Apps         0\n",
       "On_Time_Payments        0\n",
       "Late_Payments           0\n",
       "Payment_Ratio           0\n",
       "Creditworthiness        0\n",
       "dtype: int64"
      ]
     },
     "execution_count": 18,
     "metadata": {},
     "output_type": "execute_result"
    }
   ],
   "source": [
    "df.isnull().sum()"
   ]
  },
  {
   "cell_type": "code",
   "execution_count": 19,
   "id": "5ceda684",
   "metadata": {},
   "outputs": [
    {
     "data": {
      "text/plain": [
       "array([1, 0])"
      ]
     },
     "execution_count": 19,
     "metadata": {},
     "output_type": "execute_result"
    }
   ],
   "source": [
    "df['Creditworthiness'].unique()"
   ]
  },
  {
   "cell_type": "code",
   "execution_count": null,
   "id": "fe0e30c3",
   "metadata": {},
   "outputs": [],
   "source": []
  },
  {
   "cell_type": "code",
   "execution_count": 7,
   "id": "81266295",
   "metadata": {},
   "outputs": [],
   "source": [
    "\n",
    "X = df.drop('Creditworthiness', axis=1)\n",
    "y = df['Creditworthiness']\n"
   ]
  },
  {
   "cell_type": "code",
   "execution_count": 8,
   "id": "d6dc5623",
   "metadata": {},
   "outputs": [],
   "source": [
    "\n",
    "X_train, X_test, y_train, y_test = train_test_split(X, y, test_size=0.2, random_state=42)"
   ]
  },
  {
   "cell_type": "code",
   "execution_count": 9,
   "id": "1e918f0a",
   "metadata": {},
   "outputs": [
    {
     "data": {
      "text/html": [
       "<style>#sk-container-id-1 {color: black;background-color: white;}#sk-container-id-1 pre{padding: 0;}#sk-container-id-1 div.sk-toggleable {background-color: white;}#sk-container-id-1 label.sk-toggleable__label {cursor: pointer;display: block;width: 100%;margin-bottom: 0;padding: 0.3em;box-sizing: border-box;text-align: center;}#sk-container-id-1 label.sk-toggleable__label-arrow:before {content: \"▸\";float: left;margin-right: 0.25em;color: #696969;}#sk-container-id-1 label.sk-toggleable__label-arrow:hover:before {color: black;}#sk-container-id-1 div.sk-estimator:hover label.sk-toggleable__label-arrow:before {color: black;}#sk-container-id-1 div.sk-toggleable__content {max-height: 0;max-width: 0;overflow: hidden;text-align: left;background-color: #f0f8ff;}#sk-container-id-1 div.sk-toggleable__content pre {margin: 0.2em;color: black;border-radius: 0.25em;background-color: #f0f8ff;}#sk-container-id-1 input.sk-toggleable__control:checked~div.sk-toggleable__content {max-height: 200px;max-width: 100%;overflow: auto;}#sk-container-id-1 input.sk-toggleable__control:checked~label.sk-toggleable__label-arrow:before {content: \"▾\";}#sk-container-id-1 div.sk-estimator input.sk-toggleable__control:checked~label.sk-toggleable__label {background-color: #d4ebff;}#sk-container-id-1 div.sk-label input.sk-toggleable__control:checked~label.sk-toggleable__label {background-color: #d4ebff;}#sk-container-id-1 input.sk-hidden--visually {border: 0;clip: rect(1px 1px 1px 1px);clip: rect(1px, 1px, 1px, 1px);height: 1px;margin: -1px;overflow: hidden;padding: 0;position: absolute;width: 1px;}#sk-container-id-1 div.sk-estimator {font-family: monospace;background-color: #f0f8ff;border: 1px dotted black;border-radius: 0.25em;box-sizing: border-box;margin-bottom: 0.5em;}#sk-container-id-1 div.sk-estimator:hover {background-color: #d4ebff;}#sk-container-id-1 div.sk-parallel-item::after {content: \"\";width: 100%;border-bottom: 1px solid gray;flex-grow: 1;}#sk-container-id-1 div.sk-label:hover label.sk-toggleable__label {background-color: #d4ebff;}#sk-container-id-1 div.sk-serial::before {content: \"\";position: absolute;border-left: 1px solid gray;box-sizing: border-box;top: 0;bottom: 0;left: 50%;z-index: 0;}#sk-container-id-1 div.sk-serial {display: flex;flex-direction: column;align-items: center;background-color: white;padding-right: 0.2em;padding-left: 0.2em;position: relative;}#sk-container-id-1 div.sk-item {position: relative;z-index: 1;}#sk-container-id-1 div.sk-parallel {display: flex;align-items: stretch;justify-content: center;background-color: white;position: relative;}#sk-container-id-1 div.sk-item::before, #sk-container-id-1 div.sk-parallel-item::before {content: \"\";position: absolute;border-left: 1px solid gray;box-sizing: border-box;top: 0;bottom: 0;left: 50%;z-index: -1;}#sk-container-id-1 div.sk-parallel-item {display: flex;flex-direction: column;z-index: 1;position: relative;background-color: white;}#sk-container-id-1 div.sk-parallel-item:first-child::after {align-self: flex-end;width: 50%;}#sk-container-id-1 div.sk-parallel-item:last-child::after {align-self: flex-start;width: 50%;}#sk-container-id-1 div.sk-parallel-item:only-child::after {width: 0;}#sk-container-id-1 div.sk-dashed-wrapped {border: 1px dashed gray;margin: 0 0.4em 0.5em 0.4em;box-sizing: border-box;padding-bottom: 0.4em;background-color: white;}#sk-container-id-1 div.sk-label label {font-family: monospace;font-weight: bold;display: inline-block;line-height: 1.2em;}#sk-container-id-1 div.sk-label-container {text-align: center;}#sk-container-id-1 div.sk-container {/* jupyter's `normalize.less` sets `[hidden] { display: none; }` but bootstrap.min.css set `[hidden] { display: none !important; }` so we also need the `!important` here to be able to override the default hidden behavior on the sphinx rendered scikit-learn.org. See: https://github.com/scikit-learn/scikit-learn/issues/21755 */display: inline-block !important;position: relative;}#sk-container-id-1 div.sk-text-repr-fallback {display: none;}</style><div id=\"sk-container-id-1\" class=\"sk-top-container\"><div class=\"sk-text-repr-fallback\"><pre>RandomForestClassifier(random_state=42)</pre><b>In a Jupyter environment, please rerun this cell to show the HTML representation or trust the notebook. <br />On GitHub, the HTML representation is unable to render, please try loading this page with nbviewer.org.</b></div><div class=\"sk-container\" hidden><div class=\"sk-item\"><div class=\"sk-estimator sk-toggleable\"><input class=\"sk-toggleable__control sk-hidden--visually\" id=\"sk-estimator-id-1\" type=\"checkbox\" checked><label for=\"sk-estimator-id-1\" class=\"sk-toggleable__label sk-toggleable__label-arrow\">RandomForestClassifier</label><div class=\"sk-toggleable__content\"><pre>RandomForestClassifier(random_state=42)</pre></div></div></div></div></div>"
      ],
      "text/plain": [
       "RandomForestClassifier(random_state=42)"
      ]
     },
     "execution_count": 9,
     "metadata": {},
     "output_type": "execute_result"
    }
   ],
   "source": [
    "\n",
    "model = RandomForestClassifier(n_estimators=100, random_state=42)\n",
    "model.fit(X_train, y_train)\n"
   ]
  },
  {
   "cell_type": "code",
   "execution_count": 10,
   "id": "1a1291fa",
   "metadata": {},
   "outputs": [],
   "source": [
    "\n",
    "y_pred = model.predict(X_test)\n",
    "y_prob = model.predict_proba(X_test)[:, 1]\n"
   ]
  },
  {
   "cell_type": "code",
   "execution_count": 11,
   "id": "e8b3b78e",
   "metadata": {},
   "outputs": [],
   "source": [
    "\n",
    "accuracy = accuracy_score(y_test, y_pred)\n",
    "precision = precision_score(y_test, y_pred)\n",
    "recall = recall_score(y_test, y_pred)\n",
    "f1 = f1_score(y_test, y_pred)\n",
    "roc_auc = roc_auc_score(y_test, y_prob)\n",
    "report = classification_report(y_test, y_pred)\n",
    "conf_matrix = confusion_matrix(y_test, y_pred)"
   ]
  },
  {
   "cell_type": "code",
   "execution_count": 13,
   "id": "97d24320",
   "metadata": {},
   "outputs": [
    {
     "name": "stdout",
     "output_type": "stream",
     "text": [
      "0.974\n",
      "0.975382932166302\n",
      "0.9960893854748604\n",
      "0.9856274184632394\n"
     ]
    }
   ],
   "source": [
    "print(accuracy)\n",
    "print(precision)\n",
    "print(recall)\n",
    "print(f1)"
   ]
  },
  {
   "cell_type": "code",
   "execution_count": 12,
   "id": "c77d1a53",
   "metadata": {},
   "outputs": [
    {
     "data": {
      "image/png": "[encoded data removed]",
      "text/plain": [
       "<Figure size 600x500 with 1 Axes>"
      ]
     },
     "metadata": {},
     "output_type": "display_data"
    },
    {
     "data": {
      "text/plain": [
       "(0.974,\n",
       " 0.975382932166302,\n",
       " 0.9960893854748604,\n",
       " 0.9856274184632394,\n",
       " 0.9966759776536313,\n",
       " array([[ 165,   45],\n",
       "        [   7, 1783]], dtype=int64),\n",
       " '              precision    recall  f1-score   support\\n\\n           0       0.96      0.79      0.86       210\\n           1       0.98      1.00      0.99      1790\\n\\n    accuracy                           0.97      2000\\n   macro avg       0.97      0.89      0.92      2000\\nweighted avg       0.97      0.97      0.97      2000\\n')"
      ]
     },
     "execution_count": 12,
     "metadata": {},
     "output_type": "execute_result"
    }
   ],
   "source": [
    "\n",
    "fpr, tpr, _ = roc_curve(y_test, y_prob)\n",
    "plt.figure(figsize=(6, 5))\n",
    "plt.plot(fpr, tpr, label=f'ROC AUC = {roc_auc:.2f}')\n",
    "plt.plot([0, 1], [0, 1], 'k--')\n",
    "plt.xlabel('False Positive Rate')\n",
    "plt.ylabel('True Positive Rate')\n",
    "plt.title('ROC Curve')\n",
    "plt.legend()\n",
    "plt.grid(True)\n",
    "plt.tight_layout()\n",
    "plt.show()\n",
    "\n",
    "(accuracy, precision, recall, f1, roc_auc, conf_matrix, report)\n"
   ]
  }
 ],
 "metadata": {
  "kernelspec": {
   "display_name": "base",
   "language": "python",
   "name": "python3"
  },
  "language_info": {
   "codemirror_mode": {
    "name": "ipython",
    "version": 3
   },
   "file_extension": ".py",
   "mimetype": "text/x-python",
   "name": "python",
   "nbconvert_exporter": "python",
   "pygments_lexer": "ipython3",
   "version": "3.11.7"
  }
 },
 "nbformat": 4,
 "nbformat_minor": 5
}
